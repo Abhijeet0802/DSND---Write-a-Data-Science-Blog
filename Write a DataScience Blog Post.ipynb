{
 "cells": [
  {
   "cell_type": "markdown",
   "metadata": {},
   "source": [
    "# Introduction\n",
    "\n",
    "### Udacity Project - Write a Data Science Blog Post\n",
    "\n",
    "#### The Dataset - For this project, we would analyze the Stack Overflow's annual Developer Survey for the year 2019. First we will understand the dataset and the columns in the dataset and come up with 3 questions and an analysis answering the same. \n",
    "\n",
    "Before we go ahead an analyze the dataset, a brief overview of the survey(borrowed from Stackoverflow website).\n",
    "##### \"Stack Overflow’s annual Developer Survey is the largest and most comprehensive survey of people who code around the world. Each year, we field a survey covering everything from developers’ favorite technologies to their job preferences. This year marks the ninth year we’ve published our annual Developer Survey results, and nearly 90,000 developers took the 20-minute survey earlier this year.\"\n",
    "\n",
    "With nearly 90,000 respondents' data and so many variables(questions in the survey, people took 20 minutes to fill !!!!!). This will be an interesting dataset to analyze. We will also utilize the survey results schema file to understand the variables better."
   ]
  },
  {
   "cell_type": "code",
   "execution_count": 1,
   "metadata": {},
   "outputs": [],
   "source": [
    "import numpy as np\n",
    "import pandas as pd\n",
    "from IPython.display import display # Allows the use of display() for DataFrames\n",
    "import matplotlib.image as mpimg\n",
    "import matplotlib.pyplot as plt\n",
    "import seaborn as sns\n",
    "# Pretty display for notebooks\n",
    "%matplotlib inline"
   ]
  },
  {
   "cell_type": "code",
   "execution_count": 114,
   "metadata": {},
   "outputs": [
    {
     "data": {
      "text/html": [
       "<div>\n",
       "<style scoped>\n",
       "    .dataframe tbody tr th:only-of-type {\n",
       "        vertical-align: middle;\n",
       "    }\n",
       "\n",
       "    .dataframe tbody tr th {\n",
       "        vertical-align: top;\n",
       "    }\n",
       "\n",
       "    .dataframe thead th {\n",
       "        text-align: right;\n",
       "    }\n",
       "</style>\n",
       "<table border=\"1\" class=\"dataframe\">\n",
       "  <thead>\n",
       "    <tr style=\"text-align: right;\">\n",
       "      <th></th>\n",
       "      <th>Respondent</th>\n",
       "      <th>MainBranch</th>\n",
       "      <th>Hobbyist</th>\n",
       "      <th>OpenSourcer</th>\n",
       "      <th>OpenSource</th>\n",
       "      <th>Employment</th>\n",
       "      <th>Country</th>\n",
       "      <th>Student</th>\n",
       "      <th>EdLevel</th>\n",
       "      <th>UndergradMajor</th>\n",
       "      <th>...</th>\n",
       "      <th>WelcomeChange</th>\n",
       "      <th>SONewContent</th>\n",
       "      <th>Age</th>\n",
       "      <th>Gender</th>\n",
       "      <th>Trans</th>\n",
       "      <th>Sexuality</th>\n",
       "      <th>Ethnicity</th>\n",
       "      <th>Dependents</th>\n",
       "      <th>SurveyLength</th>\n",
       "      <th>SurveyEase</th>\n",
       "    </tr>\n",
       "  </thead>\n",
       "  <tbody>\n",
       "    <tr>\n",
       "      <th>0</th>\n",
       "      <td>1</td>\n",
       "      <td>I am a student who is learning to code</td>\n",
       "      <td>Yes</td>\n",
       "      <td>Never</td>\n",
       "      <td>The quality of OSS and closed source software ...</td>\n",
       "      <td>Not employed, and not looking for work</td>\n",
       "      <td>United Kingdom</td>\n",
       "      <td>No</td>\n",
       "      <td>Primary/elementary school</td>\n",
       "      <td>NaN</td>\n",
       "      <td>...</td>\n",
       "      <td>Just as welcome now as I felt last year</td>\n",
       "      <td>Tech articles written by other developers;Indu...</td>\n",
       "      <td>14.0</td>\n",
       "      <td>Man</td>\n",
       "      <td>No</td>\n",
       "      <td>Straight / Heterosexual</td>\n",
       "      <td>NaN</td>\n",
       "      <td>No</td>\n",
       "      <td>Appropriate in length</td>\n",
       "      <td>Neither easy nor difficult</td>\n",
       "    </tr>\n",
       "  </tbody>\n",
       "</table>\n",
       "<p>1 rows × 85 columns</p>\n",
       "</div>"
      ],
      "text/plain": [
       "   Respondent                              MainBranch Hobbyist OpenSourcer  \\\n",
       "0           1  I am a student who is learning to code      Yes       Never   \n",
       "\n",
       "                                          OpenSource  \\\n",
       "0  The quality of OSS and closed source software ...   \n",
       "\n",
       "                               Employment         Country Student  \\\n",
       "0  Not employed, and not looking for work  United Kingdom      No   \n",
       "\n",
       "                     EdLevel UndergradMajor             ...              \\\n",
       "0  Primary/elementary school            NaN             ...               \n",
       "\n",
       "                             WelcomeChange  \\\n",
       "0  Just as welcome now as I felt last year   \n",
       "\n",
       "                                        SONewContent   Age Gender Trans  \\\n",
       "0  Tech articles written by other developers;Indu...  14.0    Man    No   \n",
       "\n",
       "                 Sexuality Ethnicity Dependents           SurveyLength  \\\n",
       "0  Straight / Heterosexual       NaN         No  Appropriate in length   \n",
       "\n",
       "                   SurveyEase  \n",
       "0  Neither easy nor difficult  \n",
       "\n",
       "[1 rows x 85 columns]"
      ]
     },
     "metadata": {},
     "output_type": "display_data"
    }
   ],
   "source": [
    "# Load the Census dataset\n",
    "data = pd.read_csv(\"survey_results_public.csv\")\n",
    "\n",
    "# Success - Display the first record\n",
    "display(data.head(n=1))"
   ]
  },
  {
   "cell_type": "code",
   "execution_count": 115,
   "metadata": {},
   "outputs": [
    {
     "data": {
      "text/plain": [
       "(88883, 85)"
      ]
     },
     "execution_count": 115,
     "metadata": {},
     "output_type": "execute_result"
    }
   ],
   "source": [
    "data.shape"
   ]
  },
  {
   "cell_type": "code",
   "execution_count": 116,
   "metadata": {},
   "outputs": [
    {
     "data": {
      "text/html": [
       "<div>\n",
       "<style scoped>\n",
       "    .dataframe tbody tr th:only-of-type {\n",
       "        vertical-align: middle;\n",
       "    }\n",
       "\n",
       "    .dataframe tbody tr th {\n",
       "        vertical-align: top;\n",
       "    }\n",
       "\n",
       "    .dataframe thead th {\n",
       "        text-align: right;\n",
       "    }\n",
       "</style>\n",
       "<table border=\"1\" class=\"dataframe\">\n",
       "  <thead>\n",
       "    <tr style=\"text-align: right;\">\n",
       "      <th></th>\n",
       "      <th>Respondent</th>\n",
       "      <th>CompTotal</th>\n",
       "      <th>ConvertedComp</th>\n",
       "      <th>WorkWeekHrs</th>\n",
       "      <th>CodeRevHrs</th>\n",
       "      <th>Age</th>\n",
       "    </tr>\n",
       "  </thead>\n",
       "  <tbody>\n",
       "    <tr>\n",
       "      <th>count</th>\n",
       "      <td>88883.000000</td>\n",
       "      <td>5.594500e+04</td>\n",
       "      <td>5.582300e+04</td>\n",
       "      <td>64503.000000</td>\n",
       "      <td>49790.000000</td>\n",
       "      <td>79210.000000</td>\n",
       "    </tr>\n",
       "    <tr>\n",
       "      <th>mean</th>\n",
       "      <td>44442.000000</td>\n",
       "      <td>5.519014e+11</td>\n",
       "      <td>1.271107e+05</td>\n",
       "      <td>42.127197</td>\n",
       "      <td>5.084308</td>\n",
       "      <td>30.336699</td>\n",
       "    </tr>\n",
       "    <tr>\n",
       "      <th>std</th>\n",
       "      <td>25658.456325</td>\n",
       "      <td>7.331926e+13</td>\n",
       "      <td>2.841523e+05</td>\n",
       "      <td>37.287610</td>\n",
       "      <td>5.513931</td>\n",
       "      <td>9.178390</td>\n",
       "    </tr>\n",
       "    <tr>\n",
       "      <th>min</th>\n",
       "      <td>1.000000</td>\n",
       "      <td>0.000000e+00</td>\n",
       "      <td>0.000000e+00</td>\n",
       "      <td>1.000000</td>\n",
       "      <td>0.000000</td>\n",
       "      <td>1.000000</td>\n",
       "    </tr>\n",
       "    <tr>\n",
       "      <th>25%</th>\n",
       "      <td>22221.500000</td>\n",
       "      <td>2.000000e+04</td>\n",
       "      <td>2.577750e+04</td>\n",
       "      <td>40.000000</td>\n",
       "      <td>2.000000</td>\n",
       "      <td>24.000000</td>\n",
       "    </tr>\n",
       "    <tr>\n",
       "      <th>50%</th>\n",
       "      <td>44442.000000</td>\n",
       "      <td>6.200000e+04</td>\n",
       "      <td>5.728700e+04</td>\n",
       "      <td>40.000000</td>\n",
       "      <td>4.000000</td>\n",
       "      <td>29.000000</td>\n",
       "    </tr>\n",
       "    <tr>\n",
       "      <th>75%</th>\n",
       "      <td>66662.500000</td>\n",
       "      <td>1.200000e+05</td>\n",
       "      <td>1.000000e+05</td>\n",
       "      <td>44.750000</td>\n",
       "      <td>6.000000</td>\n",
       "      <td>35.000000</td>\n",
       "    </tr>\n",
       "    <tr>\n",
       "      <th>max</th>\n",
       "      <td>88883.000000</td>\n",
       "      <td>1.000000e+16</td>\n",
       "      <td>2.000000e+06</td>\n",
       "      <td>4850.000000</td>\n",
       "      <td>99.000000</td>\n",
       "      <td>99.000000</td>\n",
       "    </tr>\n",
       "  </tbody>\n",
       "</table>\n",
       "</div>"
      ],
      "text/plain": [
       "         Respondent     CompTotal  ConvertedComp   WorkWeekHrs    CodeRevHrs  \\\n",
       "count  88883.000000  5.594500e+04   5.582300e+04  64503.000000  49790.000000   \n",
       "mean   44442.000000  5.519014e+11   1.271107e+05     42.127197      5.084308   \n",
       "std    25658.456325  7.331926e+13   2.841523e+05     37.287610      5.513931   \n",
       "min        1.000000  0.000000e+00   0.000000e+00      1.000000      0.000000   \n",
       "25%    22221.500000  2.000000e+04   2.577750e+04     40.000000      2.000000   \n",
       "50%    44442.000000  6.200000e+04   5.728700e+04     40.000000      4.000000   \n",
       "75%    66662.500000  1.200000e+05   1.000000e+05     44.750000      6.000000   \n",
       "max    88883.000000  1.000000e+16   2.000000e+06   4850.000000     99.000000   \n",
       "\n",
       "                Age  \n",
       "count  79210.000000  \n",
       "mean      30.336699  \n",
       "std        9.178390  \n",
       "min        1.000000  \n",
       "25%       24.000000  \n",
       "50%       29.000000  \n",
       "75%       35.000000  \n",
       "max       99.000000  "
      ]
     },
     "execution_count": 116,
     "metadata": {},
     "output_type": "execute_result"
    }
   ],
   "source": [
    "data.describe()"
   ]
  },
  {
   "cell_type": "code",
   "execution_count": 117,
   "metadata": {},
   "outputs": [
    {
     "data": {
      "text/plain": [
       "Respondent            0\n",
       "MainBranch          552\n",
       "Hobbyist              0\n",
       "OpenSourcer           0\n",
       "OpenSource         2041\n",
       "Employment         1702\n",
       "Country             132\n",
       "Student            1869\n",
       "EdLevel            2493\n",
       "UndergradMajor    13269\n",
       "EduOther           4623\n",
       "OrgSize           17092\n",
       "DevType            7548\n",
       "YearsCode           945\n",
       "Age1stCode         1249\n",
       "YearsCodePro      14552\n",
       "CareerSat         16036\n",
       "JobSat            17895\n",
       "MgrIdiot          27724\n",
       "MgrMoney          27726\n",
       "MgrWant           27651\n",
       "JobSeek            8328\n",
       "LastHireDate       9029\n",
       "LastInt           21728\n",
       "FizzBuzz          17539\n",
       "JobFactors         9512\n",
       "ResumeUpdate      11006\n",
       "CurrencySymbol    17491\n",
       "CurrencyDesc      17491\n",
       "CompTotal         32938\n",
       "                  ...  \n",
       "Containers         3517\n",
       "BlockchainOrg     40708\n",
       "BlockchainIs      28718\n",
       "BetterLife         2614\n",
       "ITperson           1742\n",
       "OffOn              2220\n",
       "SocialMedia        4446\n",
       "Extraversion       1578\n",
       "ScreenName         8397\n",
       "SOVisit1st         5006\n",
       "SOVisitFreq         620\n",
       "SOVisitTo           797\n",
       "SOFindAnswer       1067\n",
       "SOTimeSaved        2539\n",
       "SOHowMuchTime     20505\n",
       "SOAccount          1055\n",
       "SOPartFreq        14191\n",
       "SOJobs              817\n",
       "EntTeams           1042\n",
       "SOComm              752\n",
       "WelcomeChange      3028\n",
       "SONewContent      19323\n",
       "Age                9673\n",
       "Gender             3477\n",
       "Trans              5276\n",
       "Sexuality         12736\n",
       "Ethnicity         12215\n",
       "Dependents         5824\n",
       "SurveyLength       1899\n",
       "SurveyEase         1802\n",
       "Length: 85, dtype: int64"
      ]
     },
     "execution_count": 117,
     "metadata": {},
     "output_type": "execute_result"
    }
   ],
   "source": [
    "data.isnull().sum()"
   ]
  },
  {
   "cell_type": "markdown",
   "metadata": {},
   "source": [
    "The survey data has responses from 88,883 respondents on 84 different elements. 85th column being the respondent ID to identify the respondents. The data contains mostly categorical variables or text information with only 5 columns containing continuous variables. There are lot of Null values in the dataset especially on the Block Chain questions and Compensation. We will utilize the survey results schema file to subset the data and focus only on a smaller set of variables rather than analyzing all 84 variables at a time."
   ]
  },
  {
   "cell_type": "code",
   "execution_count": 118,
   "metadata": {},
   "outputs": [],
   "source": [
    "# Subsetting the data to only analyze the variables of choice, a total of 32 columns\n",
    "var_of_choice = [\"Respondent\", \"Hobbyist\", \"OpenSourcer\", \"OpenSource\", \"Employment\", \"Country\", \"Student\", \"EdLevel\",\n",
    "                   \"UndergradMajor\", \"OrgSize\", \"YearsCode\", \"Age1stCode\", \"YearsCodePro\", \"CareerSat\", \"JobSat\",\n",
    "                   \"MgrIdiot\", \"MgrMoney\", \"MgrWant\", \"JobSeek\", \"LastHireDate\", \"JobFactors\", \"ConvertedComp\", \n",
    "                   \"WorkWeekHrs\", \"WorkChallenge\", \"WorkRemote\", \"ImpSyn\", \"SocialMedia\", \"Extraversion\", \"SOVisitFreq\",\n",
    "                   \"SOPartFreq\", \"Age\", \"Gender\"]\n",
    "data = data[var_of_choice]"
   ]
  },
  {
   "cell_type": "code",
   "execution_count": 119,
   "metadata": {},
   "outputs": [
    {
     "data": {
      "text/plain": [
       "(88883, 32)"
      ]
     },
     "execution_count": 119,
     "metadata": {},
     "output_type": "execute_result"
    }
   ],
   "source": [
    "# Confirming if the subsetting procedure completed correctly\n",
    "data.shape"
   ]
  },
  {
   "cell_type": "markdown",
   "metadata": {},
   "source": [
    "Understanding the variables, using the survey results schema file provided, made me really curious to look at the answers to a few specific questions which were asked in the survey. Stackoverflow team have put together some interesting questions which can help us discover the general attitude and behaviour of the programmers/developers. I will pick up some of this variables specifically and analyze them a little more.<br> <br>\n",
    "<b>The top 3 questions which come to my mind looking at the variable descriptions are:<br>\n",
    "1) Are most Programmers really introverts?<br>\n",
    "2) What Social Media channels are most popular among the Programmers?<br>\n",
    "3) What are the key characteristics of individuals who use LinkedIn the most? <br>"
   ]
  },
  {
   "cell_type": "markdown",
   "metadata": {},
   "source": [
    "## Question 1 - Are most Programmers really introverts?\n",
    "### Analyzing the Extraversion variable in details to answer our first question.\n",
    "##### Extraversion variable description - Do you prefer online chat or IRL conversations? (IRL = in real life)"
   ]
  },
  {
   "cell_type": "code",
   "execution_count": 120,
   "metadata": {},
   "outputs": [
    {
     "data": {
      "text/plain": [
       "array(['Online', 'In real life (in person)', nan, 'Neither'], dtype=object)"
      ]
     },
     "execution_count": 120,
     "metadata": {},
     "output_type": "execute_result"
    }
   ],
   "source": [
    "# Finding the unique values contained in the variable\n",
    "data[\"Extraversion\"].unique()"
   ]
  },
  {
   "cell_type": "code",
   "execution_count": 121,
   "metadata": {},
   "outputs": [
    {
     "data": {
      "text/plain": [
       "In real life (in person)    52860\n",
       "Online                      24938\n",
       "Neither                      9507\n",
       "Name: Extraversion, dtype: int64"
      ]
     },
     "execution_count": 121,
     "metadata": {},
     "output_type": "execute_result"
    }
   ],
   "source": [
    "# The variable contains 4 different values one of them being nan\n",
    "# Let us look at how many respondents fall under each bucket\n",
    "data[\"Extraversion\"].value_counts()"
   ]
  },
  {
   "cell_type": "markdown",
   "metadata": {},
   "source": [
    "#### Well !!! I never did think that programmers/developers would prefer to meet other people in person..... and that to 60% of them.....programmers are extroverts !!!"
   ]
  },
  {
   "cell_type": "code",
   "execution_count": 122,
   "metadata": {},
   "outputs": [
    {
     "data": {
      "text/plain": [
       "In real life (in person)    52860\n",
       "Online                      24938\n",
       "Neither                      9507\n",
       "Not Available                1578\n",
       "Name: Extraversion, dtype: int64"
      ]
     },
     "execution_count": 122,
     "metadata": {},
     "output_type": "execute_result"
    }
   ],
   "source": [
    "# Replacing nan values with Not Available so that we can keep a count and visualize this better\n",
    "data[\"Extraversion\"].fillna(\"Not Available\", inplace = True)\n",
    "\n",
    "# Checking if the above operation worked\n",
    "data[\"Extraversion\"].value_counts()"
   ]
  },
  {
   "cell_type": "code",
   "execution_count": 248,
   "metadata": {},
   "outputs": [
    {
     "data": {
      "image/png": "[encoded data removed]",
      "text/plain": [
       "<Figure size 864x576 with 1 Axes>"
      ]
     },
     "metadata": {},
     "output_type": "display_data"
    }
   ],
   "source": [
    "# Plotting the data to create our graph to be used in our blog post\n",
    "table  = data[\"Extraversion\"].value_counts()\n",
    "plt.figure(figsize=(12,8))\n",
    "sns.barplot(table.index, table.values)\n",
    "plt.title(\"Do you prefer online chat or IRL(in real life) conversations?\", fontsize = 20)\n",
    "plt.xlabel('Response', fontsize=15)\n",
    "plt.ylabel('No. of Respondents', fontsize=15)\n",
    "plt.xticks(rotation=45)\n",
    "plt.show()"
   ]
  },
  {
   "cell_type": "markdown",
   "metadata": {},
   "source": [
    "## Question 2 - What Social Media channels are more popular among the Programmers?\n",
    "### Analyzing the Social Media variable in details to answer our second question.\n",
    "##### SocialMedia variable description - What social media site do you use the most?"
   ]
  },
  {
   "cell_type": "code",
   "execution_count": 124,
   "metadata": {},
   "outputs": [
    {
     "data": {
      "text/plain": [
       "array(['Twitter', 'Instagram', 'Reddit', 'Facebook', 'YouTube', nan,\n",
       "       'VK ВКонта́кте', 'WhatsApp', \"I don't use social media\",\n",
       "       'WeChat 微信', 'LinkedIn', 'Snapchat', 'Weibo 新浪微博', 'Hello',\n",
       "       'Youku Tudou 优酷'], dtype=object)"
      ]
     },
     "execution_count": 124,
     "metadata": {},
     "output_type": "execute_result"
    }
   ],
   "source": [
    "# Let us first see what Social Media Channels respondents have put in\n",
    "data[\"SocialMedia\"].unique()"
   ]
  },
  {
   "cell_type": "code",
   "execution_count": 125,
   "metadata": {},
   "outputs": [
    {
     "data": {
      "text/plain": [
       "Reddit                      14374\n",
       "YouTube                     13830\n",
       "WhatsApp                    13347\n",
       "Facebook                    13178\n",
       "Twitter                     11398\n",
       "Instagram                    6261\n",
       "I don't use social media     5554\n",
       "LinkedIn                     4501\n",
       "WeChat 微信                     667\n",
       "Snapchat                      628\n",
       "VK ВКонта́кте                 603\n",
       "Weibo 新浪微博                     56\n",
       "Youku Tudou 优酷                 21\n",
       "Hello                          19\n",
       "Name: SocialMedia, dtype: int64"
      ]
     },
     "execution_count": 125,
     "metadata": {},
     "output_type": "execute_result"
    }
   ],
   "source": [
    "# There are 13 different Social Media channels listed\n",
    "# Let us look at how many respondents fall under each bucket\n",
    "data[\"SocialMedia\"].value_counts()"
   ]
  },
  {
   "cell_type": "markdown",
   "metadata": {},
   "source": [
    "#### Surprisingly !! a lot of programmers...16% of them have listed Reddit as the most used social media channel. So, when the programmers socialize they do it on a platform which is not in the top 5 list. And, around 6% dont use social media.\n",
    "\n",
    "Reference - \n",
    "https://www.digitaltrends.com/web/what-is-reddit/"
   ]
  },
  {
   "cell_type": "code",
   "execution_count": 126,
   "metadata": {},
   "outputs": [
    {
     "data": {
      "text/plain": [
       "Reddit                      14374\n",
       "YouTube                     13830\n",
       "WhatsApp                    13347\n",
       "Facebook                    13178\n",
       "Twitter                     11398\n",
       "Instagram                    6261\n",
       "I don't use social media     5554\n",
       "LinkedIn                     4501\n",
       "Others                       1994\n",
       "Name: SocialMedia, dtype: int64"
      ]
     },
     "execution_count": 126,
     "metadata": {},
     "output_type": "execute_result"
    }
   ],
   "source": [
    "# Combining channels with lesser repsinto one cateory \"Others\"\n",
    "to_replace = [\"WeChat 微信\", \"Snapchat\", \"VK ВКонта́кте\", \"Weibo 新浪微博\", \"Youku Tudou 优酷\", \"Hello\"]\n",
    "data[\"SocialMedia\"].replace(to_replace, \"Others\", inplace = True)\n",
    "\n",
    "# Checking if the above operation worked\n",
    "data[\"SocialMedia\"].value_counts()"
   ]
  },
  {
   "cell_type": "code",
   "execution_count": 127,
   "metadata": {},
   "outputs": [
    {
     "data": {
      "text/plain": [
       "Reddit        14374\n",
       "YouTube       13830\n",
       "WhatsApp      13347\n",
       "Facebook      13178\n",
       "Twitter       11398\n",
       "Instagram      6261\n",
       "Do not use     5554\n",
       "LinkedIn       4501\n",
       "Others         1994\n",
       "Name: SocialMedia, dtype: int64"
      ]
     },
     "execution_count": 127,
     "metadata": {},
     "output_type": "execute_result"
    }
   ],
   "source": [
    "# shortening the category name \"I don't use social media\" so that it be easily represented on the chart\n",
    "data[\"SocialMedia\"].replace(\"I don't use social media\", \"Do not use\", inplace = True)\n",
    "\n",
    "# Checking if the above operation worked\n",
    "data[\"SocialMedia\"].value_counts()"
   ]
  },
  {
   "cell_type": "code",
   "execution_count": 249,
   "metadata": {},
   "outputs": [
    {
     "data": {
      "image/png": "[encoded data removed]",
      "text/plain": [
       "<Figure size 864x576 with 1 Axes>"
      ]
     },
     "metadata": {},
     "output_type": "display_data"
    }
   ],
   "source": [
    "# Plotting the data to create our graph to be used in our blog post\n",
    "table  = data[\"SocialMedia\"].value_counts()\n",
    "plt.figure(figsize=(12,8))\n",
    "sns.barplot(table.index, table.values)\n",
    "plt.title(\"What social media site do you use the most?¶\", fontsize = 20)\n",
    "plt.xlabel('Response', fontsize=15)\n",
    "plt.ylabel('No. of Respondents', fontsize=15)\n",
    "plt.xticks(rotation=45)\n",
    "plt.show()"
   ]
  },
  {
   "cell_type": "markdown",
   "metadata": {},
   "source": [
    "##### Reddit is the most used social media channel by the programmers. \n",
    "##### Let us understand how Reddit is different from the rest. So, Reddit is an American social news aggregation, web content rating, and discussion website. Registered members submit content to the site such as links, text posts, and images, which are then voted up or down by other members. (Reference - Wikipedia)\n",
    "##### Reddit essentially is a collection of more than a million communities created based on interests which is quite different from other social media channels like YouTube which is more video oriented to something like Whatsapp or Facebook and compeletely different from Twitter which is more of content sharing platforms.\n",
    "##### The other different social media channel on the list is LinkedIn but it is popular only among 5% of the respondents.\n",
    "###### Are these 5% different from the rest?, Let us look at this in a little more details."
   ]
  },
  {
   "cell_type": "markdown",
   "metadata": {},
   "source": [
    "## Question 3 - What are the key characteristics of individuals who use LinkedIn the most? \n",
    "### Utilizing the Social Media variable in a different way to answer our question.\n",
    "##### For this we will run a RandomForest Classifier and look at the feature importances"
   ]
  },
  {
   "cell_type": "code",
   "execution_count": 129,
   "metadata": {},
   "outputs": [],
   "source": [
    "# Importing RandomForest Classifier\n",
    "from sklearn.ensemble import RandomForestClassifier"
   ]
  },
  {
   "cell_type": "code",
   "execution_count": 130,
   "metadata": {},
   "outputs": [],
   "source": [
    "# Creating the binary variable for our Y to be used in the RandomForest Classifier\n",
    "data['Pref_Linkedin'] = data['SocialMedia'].apply(lambda x: 1 if x == 'LinkedIn' else 0)"
   ]
  },
  {
   "cell_type": "code",
   "execution_count": 131,
   "metadata": {},
   "outputs": [
    {
     "data": {
      "text/plain": [
       "4501"
      ]
     },
     "execution_count": 131,
     "metadata": {},
     "output_type": "execute_result"
    }
   ],
   "source": [
    "data['Pref_Linkedin'].sum()"
   ]
  },
  {
   "cell_type": "code",
   "execution_count": 200,
   "metadata": {},
   "outputs": [],
   "source": [
    "# Not doing a train test split as we are only interested in identifying the characteristics which defines a Linkedin User\n",
    "X=data.drop(['Pref_Linkedin'], axis = 1) # Features\n",
    "y=data['Pref_Linkedin']"
   ]
  },
  {
   "cell_type": "code",
   "execution_count": 201,
   "metadata": {},
   "outputs": [
    {
     "data": {
      "text/html": [
       "<div>\n",
       "<style scoped>\n",
       "    .dataframe tbody tr th:only-of-type {\n",
       "        vertical-align: middle;\n",
       "    }\n",
       "\n",
       "    .dataframe tbody tr th {\n",
       "        vertical-align: top;\n",
       "    }\n",
       "\n",
       "    .dataframe thead th {\n",
       "        text-align: right;\n",
       "    }\n",
       "</style>\n",
       "<table border=\"1\" class=\"dataframe\">\n",
       "  <thead>\n",
       "    <tr style=\"text-align: right;\">\n",
       "      <th></th>\n",
       "      <th>Respondent</th>\n",
       "      <th>ConvertedComp</th>\n",
       "      <th>WorkWeekHrs</th>\n",
       "      <th>Age</th>\n",
       "    </tr>\n",
       "  </thead>\n",
       "  <tbody>\n",
       "    <tr>\n",
       "      <th>count</th>\n",
       "      <td>88883.000000</td>\n",
       "      <td>5.582300e+04</td>\n",
       "      <td>64503.000000</td>\n",
       "      <td>79210.000000</td>\n",
       "    </tr>\n",
       "    <tr>\n",
       "      <th>mean</th>\n",
       "      <td>44442.000000</td>\n",
       "      <td>1.271107e+05</td>\n",
       "      <td>42.127197</td>\n",
       "      <td>30.336699</td>\n",
       "    </tr>\n",
       "    <tr>\n",
       "      <th>std</th>\n",
       "      <td>25658.456325</td>\n",
       "      <td>2.841523e+05</td>\n",
       "      <td>37.287610</td>\n",
       "      <td>9.178390</td>\n",
       "    </tr>\n",
       "    <tr>\n",
       "      <th>min</th>\n",
       "      <td>1.000000</td>\n",
       "      <td>0.000000e+00</td>\n",
       "      <td>1.000000</td>\n",
       "      <td>1.000000</td>\n",
       "    </tr>\n",
       "    <tr>\n",
       "      <th>25%</th>\n",
       "      <td>22221.500000</td>\n",
       "      <td>2.577750e+04</td>\n",
       "      <td>40.000000</td>\n",
       "      <td>24.000000</td>\n",
       "    </tr>\n",
       "    <tr>\n",
       "      <th>50%</th>\n",
       "      <td>44442.000000</td>\n",
       "      <td>5.728700e+04</td>\n",
       "      <td>40.000000</td>\n",
       "      <td>29.000000</td>\n",
       "    </tr>\n",
       "    <tr>\n",
       "      <th>75%</th>\n",
       "      <td>66662.500000</td>\n",
       "      <td>1.000000e+05</td>\n",
       "      <td>44.750000</td>\n",
       "      <td>35.000000</td>\n",
       "    </tr>\n",
       "    <tr>\n",
       "      <th>max</th>\n",
       "      <td>88883.000000</td>\n",
       "      <td>2.000000e+06</td>\n",
       "      <td>4850.000000</td>\n",
       "      <td>99.000000</td>\n",
       "    </tr>\n",
       "  </tbody>\n",
       "</table>\n",
       "</div>"
      ],
      "text/plain": [
       "         Respondent  ConvertedComp   WorkWeekHrs           Age\n",
       "count  88883.000000   5.582300e+04  64503.000000  79210.000000\n",
       "mean   44442.000000   1.271107e+05     42.127197     30.336699\n",
       "std    25658.456325   2.841523e+05     37.287610      9.178390\n",
       "min        1.000000   0.000000e+00      1.000000      1.000000\n",
       "25%    22221.500000   2.577750e+04     40.000000     24.000000\n",
       "50%    44442.000000   5.728700e+04     40.000000     29.000000\n",
       "75%    66662.500000   1.000000e+05     44.750000     35.000000\n",
       "max    88883.000000   2.000000e+06   4850.000000     99.000000"
      ]
     },
     "execution_count": 201,
     "metadata": {},
     "output_type": "execute_result"
    }
   ],
   "source": [
    "X.describe()"
   ]
  },
  {
   "cell_type": "code",
   "execution_count": 202,
   "metadata": {},
   "outputs": [],
   "source": [
    "to_replace = [\"More than 50 years\", \"Less than 1 year\"]\n",
    "replace_with = [50, 1]\n",
    "X[\"YearsCodePro\"].replace(to_replace,replace_with, inplace = True)\n",
    "X[\"YearsCode\"].replace(to_replace,replace_with, inplace = True)"
   ]
  },
  {
   "cell_type": "code",
   "execution_count": 203,
   "metadata": {},
   "outputs": [],
   "source": [
    "X = X.drop(['Respondent','Country', 'Extraversion','JobFactors', 'WorkChallenge', 'SocialMedia', 'SOVisitFreq', 'SOPartFreq', 'Age1stCode' , 'LastHireDate', 'OpenSource'], axis = 1)"
   ]
  },
  {
   "cell_type": "code",
   "execution_count": 204,
   "metadata": {},
   "outputs": [
    {
     "name": "stdout",
     "output_type": "stream",
     "text": [
      "<class 'pandas.core.frame.DataFrame'>\n",
      "RangeIndex: 88883 entries, 0 to 88882\n",
      "Data columns (total 21 columns):\n",
      "Hobbyist          88883 non-null object\n",
      "OpenSourcer       88883 non-null object\n",
      "Employment        87181 non-null object\n",
      "Student           87014 non-null object\n",
      "EdLevel           86390 non-null object\n",
      "UndergradMajor    75614 non-null object\n",
      "OrgSize           71791 non-null object\n",
      "YearsCode         87938 non-null object\n",
      "YearsCodePro      74331 non-null object\n",
      "CareerSat         72847 non-null object\n",
      "JobSat            70988 non-null object\n",
      "MgrIdiot          61159 non-null object\n",
      "MgrMoney          61157 non-null object\n",
      "MgrWant           61232 non-null object\n",
      "JobSeek           80555 non-null object\n",
      "ConvertedComp     55823 non-null float64\n",
      "WorkWeekHrs       64503 non-null float64\n",
      "WorkRemote        70284 non-null object\n",
      "ImpSyn            71779 non-null object\n",
      "Age               79210 non-null float64\n",
      "Gender            85406 non-null object\n",
      "dtypes: float64(3), object(18)\n",
      "memory usage: 14.2+ MB\n"
     ]
    }
   ],
   "source": [
    "X.info()"
   ]
  },
  {
   "cell_type": "code",
   "execution_count": 205,
   "metadata": {},
   "outputs": [],
   "source": [
    "X[\"YearsCode\"] = X.YearsCode.astype(float)\n",
    "X[\"YearsCodePro\"] = X.YearsCodePro.astype(float)"
   ]
  },
  {
   "cell_type": "code",
   "execution_count": 206,
   "metadata": {},
   "outputs": [
    {
     "data": {
      "text/plain": [
       "Index(['Hobbyist', 'OpenSourcer', 'Employment', 'Student', 'EdLevel',\n",
       "       'UndergradMajor', 'OrgSize', 'YearsCode', 'YearsCodePro', 'CareerSat',\n",
       "       'JobSat', 'MgrIdiot', 'MgrMoney', 'MgrWant', 'JobSeek', 'ConvertedComp',\n",
       "       'WorkWeekHrs', 'WorkRemote', 'ImpSyn', 'Age', 'Gender'],\n",
       "      dtype='object')"
      ]
     },
     "execution_count": 206,
     "metadata": {},
     "output_type": "execute_result"
    }
   ],
   "source": [
    "X.columns"
   ]
  },
  {
   "cell_type": "code",
   "execution_count": 209,
   "metadata": {},
   "outputs": [],
   "source": [
    "cat = ['Hobbyist', 'OpenSourcer', 'Employment','Student', 'EdLevel', 'UndergradMajor', \n",
    "       'OrgSize', 'CareerSat', 'JobSat', 'MgrIdiot', 'MgrMoney',\n",
    "       'MgrWant', 'JobSeek', 'WorkRemote',\n",
    "       'ImpSyn', 'Gender']"
   ]
  },
  {
   "cell_type": "code",
   "execution_count": 210,
   "metadata": {},
   "outputs": [],
   "source": [
    "X_one_hot = pd.get_dummies(X, columns = cat)"
   ]
  },
  {
   "cell_type": "code",
   "execution_count": 211,
   "metadata": {},
   "outputs": [],
   "source": [
    "from sklearn.preprocessing import Imputer \n",
    "imputer = Imputer()\n",
    "X_one_hot = pd.DataFrame(imputer.fit_transform(X_one_hot), columns = X_one_hot.columns)"
   ]
  },
  {
   "cell_type": "code",
   "execution_count": 242,
   "metadata": {},
   "outputs": [],
   "source": [
    "X_one_hot_new = X_one_hot.drop([], axis=1)"
   ]
  },
  {
   "cell_type": "code",
   "execution_count": 243,
   "metadata": {},
   "outputs": [],
   "source": [
    "# Instantiating a Gaussian Classifier\n",
    "clf=RandomForestClassifier()"
   ]
  },
  {
   "cell_type": "code",
   "execution_count": 244,
   "metadata": {},
   "outputs": [
    {
     "data": {
      "text/plain": [
       "RandomForestClassifier(bootstrap=True, class_weight=None, criterion='gini',\n",
       "            max_depth=None, max_features='auto', max_leaf_nodes=None,\n",
       "            min_impurity_decrease=0.0, min_impurity_split=None,\n",
       "            min_samples_leaf=1, min_samples_split=2,\n",
       "            min_weight_fraction_leaf=0.0, n_estimators=10, n_jobs=1,\n",
       "            oob_score=False, random_state=None, verbose=0,\n",
       "            warm_start=False)"
      ]
     },
     "execution_count": 244,
     "metadata": {},
     "output_type": "execute_result"
    }
   ],
   "source": [
    "# Train the model\n",
    "clf.fit(X_one_hot_new,y)"
   ]
  },
  {
   "cell_type": "code",
   "execution_count": 245,
   "metadata": {},
   "outputs": [
    {
     "data": {
      "text/plain": [
       "Age                                                                                           0.082909\n",
       "YearsCode                                                                                     0.081573\n",
       "ConvertedComp                                                                                 0.072744\n",
       "YearsCodePro                                                                                  0.062768\n",
       "WorkWeekHrs                                                                                   0.048741\n",
       "UndergradMajor_Computer science, computer engineering, or software engineering                0.016477\n",
       "OpenSourcer_Less than once per year                                                           0.016017\n",
       "OpenSourcer_Never                                                                             0.015704\n",
       "OpenSourcer_Less than once a month but more than once per year                                0.014735\n",
       "EdLevel_Bachelor’s degree (BA, BS, B.Eng., etc.)                                              0.014080\n",
       "WorkRemote_Less than once per month / Never                                                   0.013663\n",
       "CareerSat_Slightly satisfied                                                                  0.013611\n",
       "MgrIdiot_Somewhat confident                                                                   0.013585\n",
       "ImpSyn_A little above average                                                                 0.013410\n",
       "JobSat_Slightly satisfied                                                                     0.013227\n",
       "CareerSat_Very satisfied                                                                      0.012885\n",
       "WorkRemote_A few days each month                                                              0.012460\n",
       "MgrMoney_No                                                                                   0.012051\n",
       "Hobbyist_No                                                                                   0.011944\n",
       "MgrIdiot_Very confident                                                                       0.011636\n",
       "OrgSize_20 to 99 employees                                                                    0.011504\n",
       "Student_No                                                                                    0.011235\n",
       "Hobbyist_Yes                                                                                  0.011176\n",
       "Gender_Man                                                                                    0.011085\n",
       "OpenSourcer_Once a month or more often                                                        0.010753\n",
       "JobSat_Very satisfied                                                                         0.010650\n",
       "OrgSize_10,000 or more employees                                                              0.010501\n",
       "ImpSyn_Average                                                                                0.010498\n",
       "EdLevel_Master’s degree (MA, MS, M.Eng., MBA, etc.)                                           0.010450\n",
       "OrgSize_100 to 499 employees                                                                  0.010381\n",
       "                                                                                                ...   \n",
       "WorkRemote_About half the time                                                                0.005189\n",
       "ImpSyn_A little below average                                                                 0.005114\n",
       "UndergradMajor_Mathematics or statistics                                                      0.005046\n",
       "WorkRemote_More than half, but not all, the time                                              0.004840\n",
       "MgrWant_I am already a manager                                                                0.004811\n",
       "OrgSize_Just me - I am a freelancer, sole proprietor, etc.                                    0.004735\n",
       "EdLevel_Other doctoral degree (Ph.D, Ed.D., etc.)                                             0.004583\n",
       "UndergradMajor_A natural science (ex. biology, chemistry, physics)                            0.004502\n",
       "UndergradMajor_A business discipline (ex. accounting, finance, marketing)                     0.004475\n",
       "EdLevel_Associate degree                                                                      0.004076\n",
       "ImpSyn_Far below average                                                                      0.003783\n",
       "Employment_Not employed, but looking for work                                                 0.003688\n",
       "EdLevel_Secondary school (e.g. American high school, German Realschule or Gymnasium, etc.)    0.003391\n",
       "UndergradMajor_A humanities discipline (ex. literature, history, philosophy)                  0.003146\n",
       "UndergradMajor_A social science (ex. anthropology, psychology, political science)             0.002726\n",
       "EdLevel_Professional degree (JD, MD, etc.)                                                    0.002681\n",
       "MgrIdiot_I don't have a manager                                                               0.002610\n",
       "Employment_Employed part-time                                                                 0.002598\n",
       "UndergradMajor_Fine arts or performing arts (ex. graphic design, music, studio art)           0.002075\n",
       "EdLevel_I never completed any formal education                                                0.001553\n",
       "UndergradMajor_I never declared a major                                                       0.001497\n",
       "Employment_Not employed, and not looking for work                                             0.001217\n",
       "Gender_Non-binary, genderqueer, or gender non-conforming                                      0.000986\n",
       "EdLevel_Primary/elementary school                                                             0.000969\n",
       "UndergradMajor_A health science (ex. nursing, pharmacy, radiology)                            0.000854\n",
       "Gender_Woman;Man                                                                              0.000823\n",
       "Employment_Retired                                                                            0.000668\n",
       "Gender_Woman;Man;Non-binary, genderqueer, or gender non-conforming                            0.000523\n",
       "Gender_Woman;Non-binary, genderqueer, or gender non-conforming                                0.000234\n",
       "Gender_Man;Non-binary, genderqueer, or gender non-conforming                                  0.000206\n",
       "Length: 93, dtype: float64"
      ]
     },
     "execution_count": 245,
     "metadata": {},
     "output_type": "execute_result"
    }
   ],
   "source": [
    "feature_imp = pd.Series(clf.feature_importances_, index = X_one_hot_new.columns).sort_values(ascending=False)\n",
    "feature_imp"
   ]
  },
  {
   "cell_type": "code",
   "execution_count": 252,
   "metadata": {},
   "outputs": [
    {
     "name": "stderr",
     "output_type": "stream",
     "text": [
      "No handles with labels found to put in legend.\n"
     ]
    },
    {
     "data": {
      "image/png": "[encoded data removed]",
      "text/plain": [
       "<Figure size 432x288 with 1 Axes>"
      ]
     },
     "metadata": {},
     "output_type": "display_data"
    }
   ],
   "source": [
    "sns.barplot(x=feature_imp[:10], y=feature_imp.index [:10])\n",
    "# Add labels to your graph\n",
    "plt.xlabel('Feature Importance Score')\n",
    "plt.ylabel('Features')\n",
    "plt.title(\"Important Characteristics of Programmers who use LinkedIn\")\n",
    "plt.legend()\n",
    "plt.show()"
   ]
  },
  {
   "cell_type": "markdown",
   "metadata": {},
   "source": [
    "#### With the above exercise we see that the first 10 important features in determining if a respondent prefers LinkedIn are age, no. of years of coding, compensation, no. of years as professional coder, work week hours, Undergraduate degree being computer or software engineering, less frequent OpenSourcer and a Education level as Bachelor's"
   ]
  },
  {
   "cell_type": "code",
   "execution_count": null,
   "metadata": {},
   "outputs": [],
   "source": []
  }
 ],
 "metadata": {
  "kernelspec": {
   "display_name": "Python 3",
   "language": "python",
   "name": "python3"
  },
  "language_info": {
   "codemirror_mode": {
    "name": "ipython",
    "version": 3
   },
   "file_extension": ".py",
   "mimetype": "text/x-python",
   "name": "python",
   "nbconvert_exporter": "python",
   "pygments_lexer": "ipython3",
   "version": "3.6.5"
  }
 },
 "nbformat": 4,
 "nbformat_minor": 2
}
